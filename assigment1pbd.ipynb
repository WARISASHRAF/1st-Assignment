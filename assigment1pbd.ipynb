#!/usr/bin/env python
# coding: utf-8

# In[ ]:


#Question1

def circularPrime(n):
  
    new = (n - 2) // 2
    marked = [False for i in range(new + 1)]
     
    Si(marked, new)
    print("2", end = ' ')
  
    for i in range(1, new + 1):
        if (marked[i] == True):
            continue;
  
        Num = 2 * i + 1
        Num = Rotate(Num)
        while (Num != 2 * i + 1):
             
            if (Num % 2 == 0):
                break
  
            if (marked[(Num - 1) // 2] == False):
                Num = Rotate(Num);
            else:
                break;

        if (Num == (2 * i + 1)):
            print(Num, end = ' ')
 

def procedure(marked, new):

    for i in range(1, new + 1):
        j = i
        while (i + j + 2 * i * j) <= new:
            marked[i + j + 2 * i * j] = True
            j += 1
        
def Rotate(n):
     
    rem = n % 10
    rem = rem * (10 ** (countDigits(n) - 1))
     
    n = n // 10
    n += rem 
    return n
 
def countDigits(n):
 
    digit = 0
     
    while n != 0:
        n = n // 10
        digit += 1
         
    return digit
 

if __name__=="__main__":
     
    n = 1000000
     
    circularPrime(n)
 


# In[ ]:


#Question3:
def isPrime(n):
    if n in {2, 3, 5, 7}:
        return True
    if n < 2 or n%2 == 0:
        return False
    if n%3 == 0 or n%5 == 0:
        return False
    r = int(n**0.5)
    a = 5
    while a <= r:
        if n%a == 0 or n%(a+2) == 0:
            return False
        a += 6
    return True

def gen(nb):
    yield nb
    nb_str = str(nb)
    for j in range(1, len(nb_str)):
        yield int(nb_str[j:])
        yield int(nb_str[:-j])

def check(nb):
    for t in gen(nb):
        if not isPrime(t):
            return False
    return True

v = s = 0
i = 11
while v < 11:
    if check(i):
        v += 1
        s += i
        print(i)
    i += 2

print('sum', s)


# In[ ]:


Question4:
    #question 4
def reverse(X):
  n = 0
  while X > 0:
    n = n * 10 + X % 10
    X = X // 10
  return n

def ispalindrome(n):
  return reverse(n) == n

def isLychrel(n):
  for i in range(50):
    n+= reverse(n)
    if isPalindrome(n):
      return False
  return True

cn = 0
for i in range(10000):
  if isLychrel(i):
    cn+= 1

print(cnt)


# In[ ]:


#Question 5

class Queue(object):
    def __init__(Self):
        Self.queue = []
  
    def __str__(Self):
        return ' '.join([str(i) for i in Self.queue])
  
    def isEmpty(Self):
        return len(Self.queue) == 0

    def insert(Self, data):
        Self.queue.append(data)
  
   
    def delete(Self):
        try:
            max = 0
            for i in range(len(Self.queue)):
                if Self.queue[i] > Self.queue[max]:
                    max = i
            item = Self.queue[max]
            del Self.queue[max]
              
            return item
        
        except IndexError:
            print()
            exit()
  

if __name__ == '__main__':
    myQueue = Queue()
    myQueue.insert(12)
    myQueue.insert(1)
    myQueue.insert(14)
    myQueue.insert(7)           
    while not myQueue.isEmpty():
        
        print(myQueue.delete()) 
        


# In[ ]:


#Question6:
from queue import Queue
  
class Stack:
      
    def __init__(Self):
          
        Self.Q1 = Queue()
        Self.Q2 = Queue() 
              
        Self.current_size = 0
  
    def push(Self, X):
        Self.current_Size += 1
  
        Self.Q2.put(X) 
  
        while (not Self.Q1.empty()):
            Self.Q2.put(Self.Q1.queue[0]) 
            Self.Q1.get()
  
        
        Self.Q = Self.Q1 
        Self.Q1 = Self.Q2 
        Self.Q2 = Self.Q
  
    def pop(Self):
  
        if (Self.Q1.empty()): 
            return
        Self.Q1.get() 
        Self.current_Size -= 1
  
    def top(Self):
        if (Self.Q1.empty()):
            return -1
        return Self.Q1.queue[0]
  
    def size(Self):
        return Self.current_Size
  

if __name__ == '__main__':
    s = Stack()
    s.push(1) 
    s.push(2) 
    s.push(3) 
  
    print("Current size: ", s.size())
    print(s.top()) 
    s.pop() 
    print(s.top()) 
    s.pop() 
    print(s.top()) 
  
    print("Current Size: ", s.size())

